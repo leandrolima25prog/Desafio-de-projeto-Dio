{
  "nbformat": 4,
  "nbformat_minor": 0,
  "metadata": {
    "colab": {
      "provenance": [],
      "authorship_tag": "ABX9TyNxfzuZLZMUMlQ4oSZrUDhl",
      "include_colab_link": true
    },
    "kernelspec": {
      "name": "python3",
      "display_name": "Python 3"
    },
    "language_info": {
      "name": "python"
    }
  },
  "cells": [
    {
      "cell_type": "markdown",
      "metadata": {
        "id": "view-in-github",
        "colab_type": "text"
      },
      "source": [
        "<a href=\"https://colab.research.google.com/github/leandrolima25prog/Desafio-de-projeto-Dio/blob/main/pythonCS2.ipynb\" target=\"_parent\"><img src=\"https://colab.research.google.com/assets/colab-badge.svg\" alt=\"Open In Colab\"/></a>"
      ]
    },
    {
      "cell_type": "code",
      "execution_count": 8,
      "metadata": {
        "colab": {
          "base_uri": "https://localhost:8080/"
        },
        "id": "wviZGz6TvTnh",
        "outputId": "883b145f-efea-40da-947f-f3341858f4ea"
      },
      "outputs": [
        {
          "output_type": "stream",
          "name": "stdout",
          "text": [
            "<built-in method read of _io.TextIOWrapper object at 0x7dfefe5ca810>\n"
          ]
        }
      ],
      "source": [
        "#abertura do arquiva\n",
        "dados = open(\"dados.txt\", \"w\")\n",
        "#esvrevendo o contúdo do arqiuivo\n",
        "dados.write(\"\\n Escrevendo no arquivo texto \\n\")\n",
        "#fechando o arquivo\n",
        "dados.close()\n"
      ]
    }
  ]
}