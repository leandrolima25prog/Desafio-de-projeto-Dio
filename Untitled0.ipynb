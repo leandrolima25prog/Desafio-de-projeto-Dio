{
  "nbformat": 4,
  "nbformat_minor": 0,
  "metadata": {
    "colab": {
      "provenance": [],
      "authorship_tag": "ABX9TyO3Wz6+6IDxN45xtuUDHqeQ",
      "include_colab_link": true
    },
    "kernelspec": {
      "name": "python3",
      "display_name": "Python 3"
    },
    "language_info": {
      "name": "python"
    }
  },
  "cells": [
    {
      "cell_type": "markdown",
      "metadata": {
        "id": "view-in-github",
        "colab_type": "text"
      },
      "source": [
        "<a href=\"https://colab.research.google.com/github/leandrolima25prog/Desafio-de-projeto-Dio/blob/main/Untitled0.ipynb\" target=\"_parent\"><img src=\"https://colab.research.google.com/assets/colab-badge.svg\" alt=\"Open In Colab\"/></a>"
      ]
    },
    {
      "cell_type": "code",
      "source": [
        "print(\"Cálculo de IMC\")\n",
        "var_usuario = input(\"Digite seu nome \")\n",
        "var_peso = float(input(\"Digite seu peso \"))\n",
        "var_idade = int( input(\"Digite sua idade \"))\n",
        "var_altura = float(input(\"Digite sua altura \"))\n",
        "var_IMC = float(var_peso / (var_altura * var_altura))\n",
        "print(\"Olá\", var_usuario)\n",
        "print(\"Seu IMC é: \"\"%.2f\" % var_IMC)\n",
        "\n"
      ],
      "metadata": {
        "colab": {
          "base_uri": "https://localhost:8080/"
        },
        "id": "8OFp-99WiN8X",
        "outputId": "136b16ec-2a66-4f4f-9d98-10e4c91292a1"
      },
      "execution_count": 31,
      "outputs": [
        {
          "output_type": "stream",
          "name": "stdout",
          "text": [
            "Cálculo de IMC\n",
            "Digite seu nome Leandro\n",
            "Digite seu peso 65\n",
            "Digite sua idade 37\n",
            "Digite sua altura 1.69\n",
            "Olá Leandro\n",
            "Seu IMC é: 22.76\n"
          ]
        }
      ]
    }
  ]
}