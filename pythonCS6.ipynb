{
  "nbformat": 4,
  "nbformat_minor": 0,
  "metadata": {
    "colab": {
      "provenance": [],
      "authorship_tag": "ABX9TyMoL46mcJOJoCETa9W1EY/6",
      "include_colab_link": true
    },
    "kernelspec": {
      "name": "python3",
      "display_name": "Python 3"
    },
    "language_info": {
      "name": "python"
    }
  },
  "cells": [
    {
      "cell_type": "markdown",
      "metadata": {
        "id": "view-in-github",
        "colab_type": "text"
      },
      "source": [
        "<a href=\"https://colab.research.google.com/github/leandrolima25prog/Desafio-de-projeto-Dio/blob/main/pythonCS6.ipynb\" target=\"_parent\"><img src=\"https://colab.research.google.com/assets/colab-badge.svg\" alt=\"Open In Colab\"/></a>"
      ]
    },
    {
      "cell_type": "code",
      "execution_count": 27,
      "metadata": {
        "colab": {
          "base_uri": "https://localhost:8080/"
        },
        "id": "4iceRgF4NHqh",
        "outputId": "97b0bbeb-353a-4253-e75d-dae45341ca34"
      },
      "outputs": [
        {
          "output_type": "stream",
          "name": "stdout",
          "text": [
            "God is good\n",
            "God will help me\n",
            "I will get it\n",
            "\n",
            "________________________\n",
            "God is good\n",
            "God will help me\n",
            "I will get it\n",
            "\n",
            "________________________\n",
            "God is good\n",
            "God will help me\n",
            "I will get it\n",
            "I love you God\n",
            "\n"
          ]
        }
      ],
      "source": [
        "'''\n",
        "try:\n",
        "    file = open('abc.txt', 'w+')\n",
        "    file.write('Hello World')\n",
        "    file.seek(0, 0)\n",
        "    print(file.read())\n",
        "\n",
        "finally:\n",
        "    file.close()\n",
        "'''\n",
        "# gerenciador de contexto\n",
        "with open('abc.txt', 'w+') as file:\n",
        "    file.write('God is good\\n')\n",
        "    file.write('God will help me\\n')\n",
        "    file.write('I will get it\\n')\n",
        "    file.seek(0, 0)\n",
        "    print(file.read())\n",
        "print('________________________')\n",
        "with open('abc.txt', 'r') as file:\n",
        "    print(file.read())\n",
        "print('________________________')\n",
        "with open('abc.txt', 'a+') as file:\n",
        "  file.write('I love you God\\n')\n",
        "  file.seek(0, 0)\n",
        "  print(file.read())\n",
        "\n",
        "\n"
      ]
    }
  ]
}