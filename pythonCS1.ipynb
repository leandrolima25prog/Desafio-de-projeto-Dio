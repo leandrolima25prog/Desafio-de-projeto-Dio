{
  "nbformat": 4,
  "nbformat_minor": 0,
  "metadata": {
    "colab": {
      "provenance": [],
      "authorship_tag": "ABX9TyNFb83tti8/JauF9Upt806V",
      "include_colab_link": true
    },
    "kernelspec": {
      "name": "python3",
      "display_name": "Python 3"
    },
    "language_info": {
      "name": "python"
    }
  },
  "cells": [
    {
      "cell_type": "markdown",
      "metadata": {
        "id": "view-in-github",
        "colab_type": "text"
      },
      "source": [
        "<a href=\"https://colab.research.google.com/github/leandrolima25prog/Desafio-de-projeto-Dio/blob/main/pythonCS1.ipynb\" target=\"_parent\"><img src=\"https://colab.research.google.com/assets/colab-badge.svg\" alt=\"Open In Colab\"/></a>"
      ]
    },
    {
      "cell_type": "code",
      "execution_count": 2,
      "metadata": {
        "colab": {
          "base_uri": "https://localhost:8080/"
        },
        "id": "wviZGz6TvTnh",
        "outputId": "3b65d7cb-0636-489a-ecc1-ae81f43da102"
      },
      "outputs": [
        {
          "output_type": "stream",
          "name": "stdout",
          "text": [
            "Meu primeiro arquivo txt\n",
            "\n"
          ]
        }
      ],
      "source": [
        "#abertura do arquiva\n",
        "dados = open(\"dados.txt\", \"r\")\n",
        "#leia o conteúdo do arquiva\n",
        "conteudo = dados.read()\n",
        "#imprima o arquiva txt\n",
        "print(conteudo)\n",
        "#fechando o arquiva\n",
        "dados.close()"
      ]
    }
  ]
}