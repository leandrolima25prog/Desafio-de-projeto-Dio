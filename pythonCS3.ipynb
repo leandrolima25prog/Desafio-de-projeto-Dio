{
  "nbformat": 4,
  "nbformat_minor": 0,
  "metadata": {
    "colab": {
      "provenance": [],
      "authorship_tag": "ABX9TyO++FiwgOiOF1Ja0EYDMBsP",
      "include_colab_link": true
    },
    "kernelspec": {
      "name": "python3",
      "display_name": "Python 3"
    },
    "language_info": {
      "name": "python"
    }
  },
  "cells": [
    {
      "cell_type": "markdown",
      "metadata": {
        "id": "view-in-github",
        "colab_type": "text"
      },
      "source": [
        "<a href=\"https://colab.research.google.com/github/leandrolima25prog/Desafio-de-projeto-Dio/blob/main/pythonCS3.ipynb\" target=\"_parent\"><img src=\"https://colab.research.google.com/assets/colab-badge.svg\" alt=\"Open In Colab\"/></a>"
      ]
    },
    {
      "cell_type": "code",
      "execution_count": 18,
      "metadata": {
        "colab": {
          "base_uri": "https://localhost:8080/"
        },
        "id": "4iceRgF4NHqh",
        "outputId": "3a329ccf-9d7b-472d-9398-707e921839ff"
      },
      "outputs": [
        {
          "output_type": "stream",
          "name": "stdout",
          "text": [
            "lendo linhas:\n",
            "Deus é bom!\n",
            "Deus vai me ajudar!\n",
            "Eu vou conseguir\n",
            "\n",
            "__________________________\n",
            "Deus é bom!\n",
            "Deus vai me ajudar!\n",
            "Eu vou conseguir\n",
            "__________________________\n",
            "['Deus é bom!\\n', 'Deus vai me ajudar!\\n', 'Eu vou conseguir\\n']\n",
            "__________________________\n",
            "Deus é bom!\n",
            "Deus vai me ajudar!\n",
            "Eu vou conseguir\n",
            "__________________________\n"
          ]
        }
      ],
      "source": [
        "file = open('abc,txt', 'w+')\n",
        "file.write('Deus é bom!\\n')\n",
        "file.write('Deus vai me ajudar!\\n')\n",
        "file.write('Eu vou conseguir\\n')\n",
        "\n",
        "file.seek(0, 0)\n",
        "\n",
        "print('lendo linhas:')\n",
        "print(file.read())\n",
        "\n",
        "print('__________________________')\n",
        "file.seek(0, 0)\n",
        "print(file.readline(), end='')\n",
        "print(file.readline(), end='')\n",
        "print(file.readline(), end='')\n",
        "\n",
        "print('__________________________')\n",
        "file.seek(0, 0)\n",
        "\n",
        "print(file.readlines())\n",
        "\n",
        "print('__________________________')\n",
        "file.seek(0, 0)\n",
        "for line in file.readlines():\n",
        "    print(line, end='')\n",
        "\n",
        "print('__________________________')\n",
        "file.seek(0, 0)\n",
        "file.close()\n",
        "\n"
      ]
    }
  ]
}