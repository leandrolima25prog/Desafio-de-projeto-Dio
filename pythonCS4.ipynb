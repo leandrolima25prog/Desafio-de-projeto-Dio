{
  "nbformat": 4,
  "nbformat_minor": 0,
  "metadata": {
    "colab": {
      "provenance": [],
      "authorship_tag": "ABX9TyPD070rxj4dRnWVxUuMdlI+",
      "include_colab_link": true
    },
    "kernelspec": {
      "name": "python3",
      "display_name": "Python 3"
    },
    "language_info": {
      "name": "python"
    }
  },
  "cells": [
    {
      "cell_type": "markdown",
      "metadata": {
        "id": "view-in-github",
        "colab_type": "text"
      },
      "source": [
        "<a href=\"https://colab.research.google.com/github/leandrolima25prog/Desafio-de-projeto-Dio/blob/main/pythonCS4.ipynb\" target=\"_parent\"><img src=\"https://colab.research.google.com/assets/colab-badge.svg\" alt=\"Open In Colab\"/></a>"
      ]
    },
    {
      "cell_type": "code",
      "execution_count": 3,
      "metadata": {
        "id": "4iceRgF4NHqh"
      },
      "outputs": [],
      "source": [
        "# como criar e modificar arquivo\n",
        "valores_celulares = {2300,2100,3000,2500,3400}\n",
        "'''\n",
        "'r' -> usado apenas para ler algo\n",
        "'w' -> usado para escrever algo\n",
        "'a' -> usado para adicionar algo\n",
        "'r+' -> usado para ler e escrever algo\n",
        "'''\n",
        "\n",
        "with open(\"valores_celulares.txt\",\"w\") as arquivo:\n",
        "    for valor in valores_celulares:\n",
        "        arquivo.write(str(valor)+\"\\n\")\n",
        "\n",
        "\n",
        "\n",
        "\n"
      ]
    }
  ]
}